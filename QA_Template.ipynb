{
 "cells": [
  {
   "cell_type": "code",
   "execution_count": 2,
   "metadata": {},
   "outputs": [],
   "source": [
    "from QA_tool import *\n",
    "import subprocess\n",
    "import os"
   ]
  },
  {
   "cell_type": "code",
   "execution_count": 3,
   "metadata": {},
   "outputs": [],
   "source": [
    "#The minimum pieces of dicom images in a session to be accepted\n",
    "PC_THRESHOLD=30\n",
    "#specify path\n",
    "wd=\"/home/local/VANDERBILT/lil18/Desktop/IMRTReorg/20150825131930_0\"\n",
    "outputPath='/home/local/VANDERBILT/lil18/Desktop/IMRTReorg/output'\n",
    "mkdir(outputPath)\n",
    "outputFileName=os.path.split(wd)[1]"
   ]
  },
  {
   "cell_type": "code",
   "execution_count": 5,
   "metadata": {},
   "outputs": [
    {
     "name": "stdout",
     "output_type": "stream",
     "text": [
      "Error 1: r1= 480  r2 =  80 r3 =  -400\n"
     ]
    }
   ],
   "source": [
    "fde= open(\"outputError.txt\",\"w+\")\n",
    "fde.write(\"Error TroubleShoot\\n\")\n",
    "fde.write(\"Error 1: Instance Count Mismatch\\n\")\n",
    "fde.write(\"Error 2: Large Distance Variance\\n\")\n",
    "fde.write(\"Error 3: Minimum Count Unreached\\n\")\n",
    "r1, r2, r3 = dcm_instance(wd)\n",
    "#  r1 == r2 (that is r3 == 0) indicates this session pass the instance number check.\n",
    "r4=dcm_slicedistance(wd)\n",
    "\n",
    "        \n",
    "if(r1>=PC_THRESHOLD and r3==0 and r4==1):\n",
    "    print(\"Session passed QA Initial Examination!\")\n",
    "    subprocess.run([\"dcm2niix\", \"-m\", 'y', '-z', '1', '-o', outputPath, wd])\n",
    "    for item in os.listdir(outputDir):\n",
    "        if item.endswith(\".json\"):\n",
    "            os.remove(os.path.join(outputDir, item))\n",
    "        elif item.endswith('.nii.gz'):\n",
    "             os.rename(os.path.join(outputDir, item), os.path.join(outputDir, outputFileName+'.nii.gz'))\n",
    "elif( r3 !=0):\n",
    "    print(\"Error 1: r1=\",r1,\" r2 = \", r2, \"r3 = \", r3)\n",
    "    fde.write(wd+\" failed with Error 1\\n\")\n",
    "elif(r1 <PC_THRESHOLD):\n",
    "    print(\"Error 2\")\n",
    "    fde.write(wd+ \" failed with Error 2\\n\")\n",
    "elif(r4!=1):\n",
    "    print(\"Error 3\")\n",
    "    fde.write(wd+\" failed with Error 3\\n\")\n",
    "fde.close()\n",
    "    "
   ]
  },
  {
   "cell_type": "code",
   "execution_count": null,
   "metadata": {},
   "outputs": [],
   "source": []
  }
 ],
 "metadata": {
  "kernelspec": {
   "display_name": "Python 3",
   "language": "python",
   "name": "python3"
  },
  "language_info": {
   "codemirror_mode": {
    "name": "ipython",
    "version": 3
   },
   "file_extension": ".py",
   "mimetype": "text/x-python",
   "name": "python",
   "nbconvert_exporter": "python",
   "pygments_lexer": "ipython3",
   "version": "3.7.3"
  }
 },
 "nbformat": 4,
 "nbformat_minor": 2
}
